{
 "cells": [
  {
   "cell_type": "code",
   "execution_count": 1,
   "metadata": {
    "_cell_guid": "b1076dfc-b9ad-4769-8c92-a6c4dae69d19",
    "_uuid": "8f2839f25d086af736a60e9eeb907d3b93b6e0e5"
   },
   "outputs": [
    {
     "name": "stdout",
     "output_type": "stream",
     "text": [
      "['sample_submission_v2.csv', 'test_v2.csv', 'train_v2.csv']\n"
     ]
    }
   ],
   "source": [
    "# This Python 3 environment comes with many helpful analytics libraries installed\n",
    "# It is defined by the kaggle/python docker image: https://github.com/kaggle/docker-python\n",
    "# For example, here's several helpful packages to load in \n",
    "\n",
    "import numpy as np # linear algebra\n",
    "import pandas as pd # data processing, CSV file I/O (e.g. pd.read_csv)\n",
    "\n",
    "# Input data files are available in the \"../input/\" directory.\n",
    "# For example, running this (by clicking run or pressing Shift+Enter) will list the files in the input directory\n",
    "import json # to convert json in df\n",
    "from pandas.io.json import json_normalize # to normalize the json file\n",
    "import ast\n",
    "from sklearn.preprocessing import LabelEncoder\n",
    "\n",
    "import os\n",
    "print(os.listdir(\"../input\"))\n",
    "# Any results you write to the current directory are saved as output."
   ]
  },
  {
   "cell_type": "code",
   "execution_count": 2,
   "metadata": {
    "_cell_guid": "79c7e3d0-c299-4dcb-8224-4455121ee9b0",
    "_uuid": "d629ff2d2480ee46fbb7e2d37f6b5fab8052498a"
   },
   "outputs": [
    {
     "name": "stdout",
     "output_type": "stream",
     "text": [
      "Wall time: 57 ms\n"
     ]
    }
   ],
   "source": [
    "%%time\n",
    "df_train = pd.read_csv(\"../input/train_v2.csv\", sep=',', usecols=['customDimensions'], converters={'customDimensions':ast.literal_eval}, nrows = 500)"
   ]
  },
  {
   "cell_type": "code",
   "execution_count": 3,
   "metadata": {},
   "outputs": [
    {
     "name": "stdout",
     "output_type": "stream",
     "text": [
      "  custom.index     custom.value\n",
      "0            4             EMEA\n",
      "1            4    North America\n",
      "2            4    North America\n",
      "3            4             EMEA\n",
      "4            4  Central America\n",
      "Wall time: 11 ms\n"
     ]
    }
   ],
   "source": [
    "%%time\n",
    "list_dic = lambda x: x[0] if len(x)>0 else {'index': '0', 'value': 'nan'} # index is 4 when not missing\n",
    "df_train['customDimensions'] = df_train['customDimensions'].apply(list_dic)\n",
    "df_train['custom.index'] = df_train['customDimensions'].apply(lambda x: x['index'])\n",
    "df_train['custom.value'] = df_train['customDimensions'].apply(lambda x: x['value'])\n",
    "df_train = df_train.drop('customDimensions', axis =1)\n",
    "print(df_train.head())"
   ]
  },
  {
   "cell_type": "code",
   "execution_count": 4,
   "metadata": {},
   "outputs": [
    {
     "name": "stdout",
     "output_type": "stream",
     "text": [
      "custom.value before label encoder\n",
      "North America      292\n",
      "EMEA                83\n",
      "APAC                57\n",
      "nan                 52\n",
      "South America       10\n",
      "Central America      6\n",
      "Name: custom.value, dtype: int64\n",
      "custom.value after label encoder\n",
      "3    292\n",
      "2     83\n",
      "0     57\n",
      "5     52\n",
      "4     10\n",
      "1      6\n",
      "Name: custom.value, dtype: int64\n"
     ]
    }
   ],
   "source": [
    "lb_make = LabelEncoder()\n",
    "\n",
    "print(\"custom.value before label encoder\")\n",
    "print(df_train['custom.value'].value_counts())\n",
    "\n",
    "df_train['custom.value'] = lb_make.fit_transform(df_train['custom.value'])\n",
    "\n",
    "print(\"custom.value after label encoder\")\n",
    "print(df_train['custom.value'].value_counts())\n",
    "\n",
    "value_labels = list(lb_make.classes_)"
   ]
  },
  {
   "cell_type": "code",
   "execution_count": 5,
   "metadata": {},
   "outputs": [],
   "source": [
    "df_train.to_csv('customDimensions.csv', sep=',')"
   ]
  },
  {
   "cell_type": "code",
   "execution_count": 6,
   "metadata": {},
   "outputs": [],
   "source": [
    "# with open('customValue_label.txt','w') as f:\n",
    "#     f.write( '\\n'.join( value_labels ) )\n",
    "custom_value_df = pd.DataFrame({'custom.value' : list(range(len(value_labels))), 'custom.value.meaning' : value_labels})\n",
    "custom_value_df.to_csv('customValueLabels.csv', sep=',')"
   ]
  },
  {
   "cell_type": "code",
   "execution_count": null,
   "metadata": {},
   "outputs": [],
   "source": []
  }
 ],
 "metadata": {
  "kernelspec": {
   "display_name": "Python 3",
   "language": "python",
   "name": "python3"
  },
  "language_info": {
   "codemirror_mode": {
    "name": "ipython",
    "version": 3
   },
   "file_extension": ".py",
   "mimetype": "text/x-python",
   "name": "python",
   "nbconvert_exporter": "python",
   "pygments_lexer": "ipython3",
   "version": "3.6.8"
  }
 },
 "nbformat": 4,
 "nbformat_minor": 1
}
