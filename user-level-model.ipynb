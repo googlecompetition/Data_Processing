{
 "cells": [
  {
   "cell_type": "markdown",
   "metadata": {
    "_uuid": "da257aad9b04cbebc1e67e6465414e7e379fc1e9"
   },
   "source": [
    "# Introduction\n",
    "\n"
   ]
  },
  {
   "cell_type": "markdown",
   "metadata": {
    "_uuid": "a04a68f5edf3bcd4f18524049ac02d185fdf0e76"
   },
   "source": [
    "### This kernel is mainly made up of two parts:\n",
    "* [**1. Data loading**](#Data loading)\n",
    "* [**2. Model building**](#Model building)"
   ]
  },
  {
   "cell_type": "markdown",
   "metadata": {
    "_uuid": "dddabb983cddc6cc669dfede6c3cb434a6d269cf"
   },
   "source": [
    "* Data are generated from this script : https://www.kaggle.com/qnkhuat/make-data-ready \n",
    "* Stacking part is from this script: https://www.kaggle.com/ashishpatel26/updated-bayesian-lgbm-xgb-cat-fe-kfold-cv"
   ]
  },
  {
   "cell_type": "markdown",
   "metadata": {
    "_uuid": "c980fc990df8ec129a8143b9358cfc256c04eca9"
   },
   "source": [
    "## Data loading"
   ]
  },
  {
   "cell_type": "code",
   "execution_count": 1,
   "metadata": {
    "_cell_guid": "b1076dfc-b9ad-4769-8c92-a6c4dae69d19",
    "_uuid": "8f2839f25d086af736a60e9eeb907d3b93b6e0e5"
   },
   "outputs": [
    {
     "name": "stdout",
     "output_type": "stream",
     "text": [
      "['__notebook__.ipynb', 'train_clean8', 'train_clean6', '__output__.json', 'train_clean1', 'custom.css', 'test_clean', 'train_clean2', 'train_clean5', '__results__.html', 'train_clean7', 'train_clean0', 'train_clean3', 'train_clean4']\n"
     ]
    }
   ],
   "source": [
    "import numpy as np \n",
    "import pandas as pd \n",
    "import scipy\n",
    "from datetime import datetime\n",
    "\n",
    "import sys\n",
    "import os\n",
    "from os.path import join as pjoin\n",
    "\n",
    "data_root = '../input/user-level-training-and-test-data-prepare'\n",
    "print(os.listdir(data_root))\n",
    "\n",
    "pd.set_option('display.max_rows',200)\n",
    "\n",
    "from sklearn.preprocessing import LabelEncoder\n",
    "from sklearn.model_selection import StratifiedKFold\n",
    "from sklearn.model_selection import train_test_split\n",
    "\n",
    "from pprint import pprint\n",
    "import matplotlib.pyplot as plt\n",
    "import seaborn as sns"
   ]
  },
  {
   "cell_type": "code",
   "execution_count": 2,
   "metadata": {
    "_uuid": "c3cc9e31f9c51f1fd66593d2fd0cb3963e880f12"
   },
   "outputs": [],
   "source": [
    "def load_data(data='train',n=2):\n",
    "    df = pd.DataFrame()\n",
    "    for i in range(n) :\n",
    "        if data=='train':\n",
    "            if i > 8 :\n",
    "                break\n",
    "            dfpart = pd.read_pickle(pjoin(data_root,f'train_clean{i}'))\n",
    "        elif data=='test':\n",
    "            if i > 2 :\n",
    "                break\n",
    "            dfpart = pd.read_pickle(pjoin(data_root,f'test_{i}.pkl'))\n",
    "        df = pd.concat([df,dfpart])\n",
    "        del dfpart\n",
    "    return df       "
   ]
  },
  {
   "cell_type": "code",
   "execution_count": 3,
   "metadata": {
    "_uuid": "711b2ff1d23636474cbf8cbd63ed852d4853499d",
    "scrolled": false
   },
   "outputs": [
    {
     "name": "stderr",
     "output_type": "stream",
     "text": [
      "/opt/conda/lib/python3.6/site-packages/tensorflow/python/framework/dtypes.py:516: FutureWarning: Passing (type, 1) or '1type' as a synonym of type is deprecated; in a future version of numpy, it will be understood as (type, (1,)) / '(1,)type'.\n",
      "  _np_qint8 = np.dtype([(\"qint8\", np.int8, 1)])\n",
      "/opt/conda/lib/python3.6/site-packages/tensorflow/python/framework/dtypes.py:517: FutureWarning: Passing (type, 1) or '1type' as a synonym of type is deprecated; in a future version of numpy, it will be understood as (type, (1,)) / '(1,)type'.\n",
      "  _np_quint8 = np.dtype([(\"quint8\", np.uint8, 1)])\n",
      "/opt/conda/lib/python3.6/site-packages/tensorflow/python/framework/dtypes.py:518: FutureWarning: Passing (type, 1) or '1type' as a synonym of type is deprecated; in a future version of numpy, it will be understood as (type, (1,)) / '(1,)type'.\n",
      "  _np_qint16 = np.dtype([(\"qint16\", np.int16, 1)])\n",
      "/opt/conda/lib/python3.6/site-packages/tensorflow/python/framework/dtypes.py:519: FutureWarning: Passing (type, 1) or '1type' as a synonym of type is deprecated; in a future version of numpy, it will be understood as (type, (1,)) / '(1,)type'.\n",
      "  _np_quint16 = np.dtype([(\"quint16\", np.uint16, 1)])\n",
      "/opt/conda/lib/python3.6/site-packages/tensorflow/python/framework/dtypes.py:520: FutureWarning: Passing (type, 1) or '1type' as a synonym of type is deprecated; in a future version of numpy, it will be understood as (type, (1,)) / '(1,)type'.\n",
      "  _np_qint32 = np.dtype([(\"qint32\", np.int32, 1)])\n",
      "/opt/conda/lib/python3.6/site-packages/tensorflow/python/framework/dtypes.py:525: FutureWarning: Passing (type, 1) or '1type' as a synonym of type is deprecated; in a future version of numpy, it will be understood as (type, (1,)) / '(1,)type'.\n",
      "  np_resource = np.dtype([(\"resource\", np.ubyte, 1)])\n",
      "/opt/conda/lib/python3.6/site-packages/tensorboard/compat/tensorflow_stub/dtypes.py:541: FutureWarning: Passing (type, 1) or '1type' as a synonym of type is deprecated; in a future version of numpy, it will be understood as (type, (1,)) / '(1,)type'.\n",
      "  _np_qint8 = np.dtype([(\"qint8\", np.int8, 1)])\n",
      "/opt/conda/lib/python3.6/site-packages/tensorboard/compat/tensorflow_stub/dtypes.py:542: FutureWarning: Passing (type, 1) or '1type' as a synonym of type is deprecated; in a future version of numpy, it will be understood as (type, (1,)) / '(1,)type'.\n",
      "  _np_quint8 = np.dtype([(\"quint8\", np.uint8, 1)])\n",
      "/opt/conda/lib/python3.6/site-packages/tensorboard/compat/tensorflow_stub/dtypes.py:543: FutureWarning: Passing (type, 1) or '1type' as a synonym of type is deprecated; in a future version of numpy, it will be understood as (type, (1,)) / '(1,)type'.\n",
      "  _np_qint16 = np.dtype([(\"qint16\", np.int16, 1)])\n",
      "/opt/conda/lib/python3.6/site-packages/tensorboard/compat/tensorflow_stub/dtypes.py:544: FutureWarning: Passing (type, 1) or '1type' as a synonym of type is deprecated; in a future version of numpy, it will be understood as (type, (1,)) / '(1,)type'.\n",
      "  _np_quint16 = np.dtype([(\"quint16\", np.uint16, 1)])\n",
      "/opt/conda/lib/python3.6/site-packages/tensorboard/compat/tensorflow_stub/dtypes.py:545: FutureWarning: Passing (type, 1) or '1type' as a synonym of type is deprecated; in a future version of numpy, it will be understood as (type, (1,)) / '(1,)type'.\n",
      "  _np_qint32 = np.dtype([(\"qint32\", np.int32, 1)])\n",
      "/opt/conda/lib/python3.6/site-packages/tensorboard/compat/tensorflow_stub/dtypes.py:550: FutureWarning: Passing (type, 1) or '1type' as a synonym of type is deprecated; in a future version of numpy, it will be understood as (type, (1,)) / '(1,)type'.\n",
      "  np_resource = np.dtype([(\"resource\", np.ubyte, 1)])\n"
     ]
    }
   ],
   "source": [
    "df_train = load_data(n=9)\n",
    "df_test = pd.read_pickle(pjoin(data_root,f'test_clean'))"
   ]
  },
  {
   "cell_type": "code",
   "execution_count": 4,
   "metadata": {},
   "outputs": [
    {
     "data": {
      "text/plain": [
       "((3134406, 61), (296530, 59))"
      ]
     },
     "execution_count": 4,
     "metadata": {},
     "output_type": "execute_result"
    }
   ],
   "source": [
    "df_train.shape, df_test.shape"
   ]
  },
  {
   "cell_type": "code",
   "execution_count": 5,
   "metadata": {},
   "outputs": [
    {
     "name": "stdout",
     "output_type": "stream",
     "text": [
      "                      df_train:  1.9 GiB\n",
      "                       df_test: 176.1 MiB\n",
      "                  LabelEncoder:  1.0 KiB\n",
      "               StratifiedKFold:  1.0 KiB\n",
      "                           _i5:  576.0 B\n",
      "                           _i1:  556.0 B\n",
      "                          _iii:  490.0 B\n",
      "                           _i2:  490.0 B\n",
      "                      datetime:  400.0 B\n",
      "                           _oh:  240.0 B\n"
     ]
    }
   ],
   "source": [
    "def sizeof_fmt(num, suffix='B'):\n",
    "    ''' by Fred Cirera,  https://stackoverflow.com/a/1094933/1870254, modified'''\n",
    "    for unit in ['','Ki','Mi','Gi','Ti','Pi','Ei','Zi']:\n",
    "        if abs(num) < 1024.0:\n",
    "            return \"%3.1f %s%s\" % (num, unit, suffix)\n",
    "        num /= 1024.0\n",
    "    return \"%.1f %s%s\" % (num, 'Yi', suffix)\n",
    "\n",
    "for name, size in sorted(((name, sys.getsizeof(value)) for name, value in locals().items()),\n",
    "                         key= lambda x: -x[1])[:10]:\n",
    "    print(\"{:>30}: {:>8}\".format(name, sizeof_fmt(size)))"
   ]
  },
  {
   "cell_type": "markdown",
   "metadata": {
    "_uuid": "65f0aee10ca05964d8db36cdc354f5325b9eba31"
   },
   "source": [
    "## Model building"
   ]
  },
  {
   "cell_type": "code",
   "execution_count": 6,
   "metadata": {
    "_uuid": "6c41bf33202785c56ad6401fdb764b31e50c623b"
   },
   "outputs": [],
   "source": [
    "import lightgbm as lgb\n",
    "# from xgboost import XGBRegressor\n",
    "# from catboost import CatBoostRegressor\n",
    "\n",
    "from sklearn.metrics import mean_squared_error"
   ]
  },
  {
   "cell_type": "code",
   "execution_count": 7,
   "metadata": {},
   "outputs": [],
   "source": [
    "df_train['month'] = df_train['month'].astype('category')\n",
    "df_train['year'] = df_train['year'].astype('category')"
   ]
  },
  {
   "cell_type": "code",
   "execution_count": 8,
   "metadata": {},
   "outputs": [],
   "source": [
    "df_test['month'] = df_test['month'].astype('category')\n",
    "df_test['year'] = df_test['year'].astype('category')"
   ]
  },
  {
   "cell_type": "code",
   "execution_count": 9,
   "metadata": {},
   "outputs": [],
   "source": [
    "# print(df_train.columns)\n",
    "# col = 'adwordsClickInfo_page'\n",
    "# print(len(df_train[col].unique()))\n",
    "# print(df_train[col].mode())\n",
    "# print(df_train[col].describe)"
   ]
  },
  {
   "cell_type": "code",
   "execution_count": 10,
   "metadata": {},
   "outputs": [],
   "source": [
    "to_category = ['channelGrouping', 'device_browser', 'deviceCategory', 'operatingSystem',\n",
    "              'networkDomain', 'city', 'metro', 'region', 'country', 'continent', \n",
    "              'adwordsClickInfo_gclId', 'keyword', 'medium', 'referralPath', \n",
    "              'source', 'adwordsClickInfo_page', 'totals_sessionQualityDim'] \n",
    "\n",
    "for col in to_category:\n",
    "    df_train[col] = df_train[col].astype('category')\n",
    "    df_test[col] = df_test[col].astype('category')"
   ]
  },
  {
   "cell_type": "code",
   "execution_count": 11,
   "metadata": {},
   "outputs": [],
   "source": [
    "params_lgb2 = {\n",
    "        \"objective\" : \"binary\",\n",
    "        \"metric\" : \"binary_logloss\",\n",
    "        \"max_leaves\": 256,\n",
    "        \"num_leaves\" : 15,\n",
    "        \"min_child_samples\" : 1,\n",
    "        \"learning_rate\" : 0.01,\n",
    "        \"bagging_fraction\" : 0.9,\n",
    "        \"feature_fraction\" : 0.8,\n",
    "        \"bagging_frequency\" : 1           \n",
    "    }"
   ]
  },
  {
   "cell_type": "code",
   "execution_count": 12,
   "metadata": {},
   "outputs": [],
   "source": [
    "params_lgb3 = {\n",
    "        \"objective\" : \"regression\",\n",
    "        \"metric\" : \"rmse\", \n",
    "        \"max_leaves\": 256,\n",
    "        \"num_leaves\" : 9,\n",
    "        \"min_child_samples\" : 1,\n",
    "        \"learning_rate\" : 0.01,\n",
    "        \"bagging_fraction\" : 0.9,\n",
    "        \"feature_fraction\" : 0.8,\n",
    "        \"bagging_frequency\" : 1      \n",
    "    }"
   ]
  },
  {
   "cell_type": "code",
   "execution_count": 13,
   "metadata": {},
   "outputs": [],
   "source": [
    "target_cols = ['totals_transactionRevenue', 'ret', 'fullVisitorId']\n",
    "\n",
    "dtrain_all = lgb.Dataset(df_train.drop(target_cols, axis=1), label=df_train['ret'])\n",
    "\n",
    "dtrain_ret = lgb.Dataset(df_train.drop(target_cols, axis=1)[df_train['ret']==1], \n",
    "                         label= np.log1p(df_train['totals_transactionRevenue'][df_train['ret']==1]))"
   ]
  },
  {
   "cell_type": "code",
   "execution_count": 14,
   "metadata": {},
   "outputs": [],
   "source": [
    "test = df_test.drop('fullVisitorId', axis=1)"
   ]
  },
  {
   "cell_type": "code",
   "execution_count": 15,
   "metadata": {},
   "outputs": [
    {
     "name": "stdout",
     "output_type": "stream",
     "text": [
      "Training and predictions\n",
      "Interation number  0\n"
     ]
    }
   ],
   "source": [
    "pr_lgb_sum = 0\n",
    "\n",
    "num_ite = 1\n",
    "print('Training and predictions')\n",
    "for i in range(num_ite):\n",
    "    print('Interation number ', i)\n",
    "    lgb_model1 = lgb.train(params_lgb2, dtrain_all, num_boost_round=1250) # original 1200\n",
    "    pr_lgb = lgb_model1.predict(test)\n",
    "    \n",
    "    lgb_model2 = lgb.train(params_lgb3, dtrain_ret, num_boost_round=390) # original 368\n",
    "    pr_lgb_ret = lgb_model2.predict(test)\n",
    "    \n",
    "    pr_lgb_sum = pr_lgb_sum + pr_lgb*pr_lgb_ret\n",
    "\n",
    "pr_final2 = pr_lgb_sum/num_ite"
   ]
  },
  {
   "cell_type": "markdown",
   "metadata": {
    "_uuid": "ff432574f6bffcf1b02919da5658cf805e9d2ef1"
   },
   "source": [
    "## Save result"
   ]
  },
  {
   "cell_type": "code",
   "execution_count": 17,
   "metadata": {},
   "outputs": [
    {
     "data": {
      "text/html": [
       "<div>\n",
       "<style scoped>\n",
       "    .dataframe tbody tr th:only-of-type {\n",
       "        vertical-align: middle;\n",
       "    }\n",
       "\n",
       "    .dataframe tbody tr th {\n",
       "        vertical-align: top;\n",
       "    }\n",
       "\n",
       "    .dataframe thead th {\n",
       "        text-align: right;\n",
       "    }\n",
       "</style>\n",
       "<table border=\"1\" class=\"dataframe\">\n",
       "  <thead>\n",
       "    <tr style=\"text-align: right;\">\n",
       "      <th></th>\n",
       "      <th>fullVisitorId</th>\n",
       "      <th>PredictedLogRevenue</th>\n",
       "    </tr>\n",
       "  </thead>\n",
       "  <tbody>\n",
       "    <tr>\n",
       "      <th>0</th>\n",
       "      <td>0000018966949534117</td>\n",
       "      <td>0.003024</td>\n",
       "    </tr>\n",
       "    <tr>\n",
       "      <th>1</th>\n",
       "      <td>0000039738481224681</td>\n",
       "      <td>0.000299</td>\n",
       "    </tr>\n",
       "    <tr>\n",
       "      <th>2</th>\n",
       "      <td>0000073585230191399</td>\n",
       "      <td>0.000379</td>\n",
       "    </tr>\n",
       "    <tr>\n",
       "      <th>3</th>\n",
       "      <td>0000087588448856385</td>\n",
       "      <td>0.000050</td>\n",
       "    </tr>\n",
       "    <tr>\n",
       "      <th>4</th>\n",
       "      <td>0000149787903119437</td>\n",
       "      <td>0.000050</td>\n",
       "    </tr>\n",
       "  </tbody>\n",
       "</table>\n",
       "</div>"
      ],
      "text/plain": [
       "         fullVisitorId  PredictedLogRevenue\n",
       "0  0000018966949534117             0.003024\n",
       "1  0000039738481224681             0.000299\n",
       "2  0000073585230191399             0.000379\n",
       "3  0000087588448856385             0.000050\n",
       "4  0000149787903119437             0.000050"
      ]
     },
     "execution_count": 17,
     "metadata": {},
     "output_type": "execute_result"
    }
   ],
   "source": [
    "sub_df = pd.DataFrame(df_test['fullVisitorId'])\n",
    "sub_df[\"PredictedLogRevenue\"] = pr_final2\n",
    "sub_df.head()"
   ]
  },
  {
   "cell_type": "code",
   "execution_count": 18,
   "metadata": {},
   "outputs": [],
   "source": [
    "sub_df.to_csv(\"stacked_result.csv\", index=False)"
   ]
  },
  {
   "cell_type": "code",
   "execution_count": 19,
   "metadata": {},
   "outputs": [
    {
     "data": {
      "text/plain": [
       "296530"
      ]
     },
     "execution_count": 19,
     "metadata": {},
     "output_type": "execute_result"
    }
   ],
   "source": [
    "len(sub_df)"
   ]
  }
 ],
 "metadata": {
  "kernelspec": {
   "display_name": "Python 3",
   "language": "python",
   "name": "python3"
  },
  "language_info": {
   "codemirror_mode": {
    "name": "ipython",
    "version": 3
   },
   "file_extension": ".py",
   "mimetype": "text/x-python",
   "name": "python",
   "nbconvert_exporter": "python",
   "pygments_lexer": "ipython3",
   "version": "3.6.8"
  }
 },
 "nbformat": 4,
 "nbformat_minor": 1
}
